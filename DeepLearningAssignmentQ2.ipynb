{
  "nbformat": 4,
  "nbformat_minor": 0,
  "metadata": {
    "colab": {
      "provenance": []
    },
    "kernelspec": {
      "name": "python3",
      "display_name": "Python 3"
    },
    "language_info": {
      "name": "python"
    }
  },
  "cells": [
    {
      "cell_type": "markdown",
      "source": [
        "A) Training Samples - **8143**\n",
        "   Test Samples -  **9752**"
      ],
      "metadata": {
        "id": "1-vnSZG2M_hx"
      }
    },
    {
      "cell_type": "code",
      "execution_count": 45,
      "metadata": {
        "id": "veLACm4QGjla"
      },
      "outputs": [],
      "source": [
        "#Importing Required Libraries\n",
        "import pandas as pd\n",
        "import numpy as np\n",
        "import matplotlib.pyplot as plt\n",
        "import tensorflow as tf\n",
        "from tensorflow.keras.layers import Dense\n",
        "from sklearn.model_selection import train_test_split"
      ]
    },
    {
      "cell_type": "code",
      "source": [
        "#Uploading the required Data\n",
        "testdata = pd.read_csv('testData.txt', sep=',')\n",
        "traindata = pd.read_csv('trainData.txt', sep=',')\n",
        "traindata.info()"
      ],
      "metadata": {
        "colab": {
          "base_uri": "https://localhost:8080/"
        },
        "id": "mk8qZCASGrdp",
        "outputId": "974803fb-73ff-4083-8c9a-800c658a858d"
      },
      "execution_count": 46,
      "outputs": [
        {
          "output_type": "stream",
          "name": "stdout",
          "text": [
            "<class 'pandas.core.frame.DataFrame'>\n",
            "Int64Index: 8143 entries, 1 to 8143\n",
            "Data columns (total 7 columns):\n",
            " #   Column         Non-Null Count  Dtype  \n",
            "---  ------         --------------  -----  \n",
            " 0   date           8143 non-null   object \n",
            " 1   Temperature    8143 non-null   float64\n",
            " 2   Humidity       8143 non-null   float64\n",
            " 3   Light          8143 non-null   float64\n",
            " 4   CO2            8143 non-null   float64\n",
            " 5   HumidityRatio  8143 non-null   float64\n",
            " 6   Occupancy      8143 non-null   int64  \n",
            "dtypes: float64(5), int64(1), object(1)\n",
            "memory usage: 508.9+ KB\n"
          ]
        }
      ]
    },
    {
      "cell_type": "code",
      "source": [
        "# Choosing the required data from the Dataset\n",
        "X = traindata.iloc[:5000, 1:6]\n",
        "Y = testdata.iloc[:5000, -1:]\n",
        "\n",
        "train_x, test_x, train_y, test_y = train_test_split(X, Y, test_size=0.3, random_state=1)\n",
        "print(train_x.shape, train_y.shape, test_x.shape, test_y.shape)\n"
      ],
      "metadata": {
        "id": "pcubBOSZHSaL",
        "colab": {
          "base_uri": "https://localhost:8080/"
        },
        "outputId": "31454bcd-a404-4c94-f53d-1bcbbe40d053"
      },
      "execution_count": 47,
      "outputs": [
        {
          "output_type": "stream",
          "name": "stdout",
          "text": [
            "(3500, 5) (3500, 1) (1500, 5) (1500, 1)\n"
          ]
        }
      ]
    },
    {
      "cell_type": "code",
      "source": [
        "#Building a Model by varing the number of hidden units and make a plot.\n",
        "model = tf.keras.Sequential()\n",
        "model.add(Dense(16, activation='relu',input_shape=(5, ))) \n",
        "model.add(Dense(32, activation='softplus'))\n",
        "model.add(Dense(32, activation='softplus'))\n",
        "model.add(Dense(1, activation='sigmoid')) \n",
        "\n",
        "model.summary()"
      ],
      "metadata": {
        "colab": {
          "base_uri": "https://localhost:8080/"
        },
        "id": "ynoRQZP4Ha5L",
        "outputId": "253abe29-9f4a-40a7-8f9c-ce86f94f5f79"
      },
      "execution_count": 48,
      "outputs": [
        {
          "output_type": "stream",
          "name": "stdout",
          "text": [
            "Model: \"sequential_3\"\n",
            "_________________________________________________________________\n",
            " Layer (type)                Output Shape              Param #   \n",
            "=================================================================\n",
            " dense_11 (Dense)            (None, 16)                96        \n",
            "                                                                 \n",
            " dense_12 (Dense)            (None, 32)                544       \n",
            "                                                                 \n",
            " dense_13 (Dense)            (None, 32)                1056      \n",
            "                                                                 \n",
            " dense_14 (Dense)            (None, 1)                 33        \n",
            "                                                                 \n",
            "=================================================================\n",
            "Total params: 1,729\n",
            "Trainable params: 1,729\n",
            "Non-trainable params: 0\n",
            "_________________________________________________________________\n"
          ]
        }
      ]
    },
    {
      "cell_type": "code",
      "source": [
        "lossfunction = tf.keras.losses.BinaryCrossentropy()\n",
        "model.compile(optimizer= 'adam', loss= lossfunction, metrics=['accuracy'])"
      ],
      "metadata": {
        "id": "RT4j5OnOHf-J"
      },
      "execution_count": 49,
      "outputs": []
    },
    {
      "cell_type": "code",
      "source": [
        "fitmodel = model.fit(train_x, train_y, epochs=10, validation_split=0.3)"
      ],
      "metadata": {
        "colab": {
          "base_uri": "https://localhost:8080/"
        },
        "id": "BQpdNBlSHoud",
        "outputId": "7db824fe-f278-468e-bf74-3ada1159c8a3"
      },
      "execution_count": 57,
      "outputs": [
        {
          "output_type": "stream",
          "name": "stdout",
          "text": [
            "Epoch 1/10\n",
            "77/77 [==============================] - 0s 4ms/step - loss: 0.3976 - accuracy: 0.8318 - val_loss: 0.4620 - val_accuracy: 0.8314\n",
            "Epoch 2/10\n",
            "77/77 [==============================] - 0s 4ms/step - loss: 0.4280 - accuracy: 0.8343 - val_loss: 0.4070 - val_accuracy: 0.8362\n",
            "Epoch 3/10\n",
            "77/77 [==============================] - 0s 4ms/step - loss: 0.3941 - accuracy: 0.8335 - val_loss: 0.3653 - val_accuracy: 0.8143\n",
            "Epoch 4/10\n",
            "77/77 [==============================] - 0s 4ms/step - loss: 0.4101 - accuracy: 0.8371 - val_loss: 0.3858 - val_accuracy: 0.8457\n",
            "Epoch 5/10\n",
            "77/77 [==============================] - 0s 4ms/step - loss: 0.4027 - accuracy: 0.8363 - val_loss: 0.3714 - val_accuracy: 0.8371\n",
            "Epoch 6/10\n",
            "77/77 [==============================] - 0s 4ms/step - loss: 0.4221 - accuracy: 0.8208 - val_loss: 0.3775 - val_accuracy: 0.8476\n",
            "Epoch 7/10\n",
            "77/77 [==============================] - 0s 4ms/step - loss: 0.4419 - accuracy: 0.8265 - val_loss: 0.4734 - val_accuracy: 0.8210\n",
            "Epoch 8/10\n",
            "77/77 [==============================] - 0s 4ms/step - loss: 0.4114 - accuracy: 0.8290 - val_loss: 0.3461 - val_accuracy: 0.8486\n",
            "Epoch 9/10\n",
            "77/77 [==============================] - 0s 4ms/step - loss: 0.4563 - accuracy: 0.8290 - val_loss: 0.3380 - val_accuracy: 0.8571\n",
            "Epoch 10/10\n",
            "77/77 [==============================] - 0s 4ms/step - loss: 0.3820 - accuracy: 0.8408 - val_loss: 0.3356 - val_accuracy: 0.8686\n"
          ]
        }
      ]
    },
    {
      "cell_type": "code",
      "source": [
        "training_loss, training_acc = model.evaluate(train_x, train_y)\n",
        "testing_loss, testing_acc = model.evaluate(test_x, test_y)"
      ],
      "metadata": {
        "colab": {
          "base_uri": "https://localhost:8080/"
        },
        "id": "qYVzyxMlHt6c",
        "outputId": "b4bb205f-9498-45f1-9b9f-d991b44a3af8"
      },
      "execution_count": 58,
      "outputs": [
        {
          "output_type": "stream",
          "name": "stdout",
          "text": [
            "110/110 [==============================] - 0s 2ms/step - loss: 0.3399 - accuracy: 0.8691\n",
            "47/47 [==============================] - 0s 2ms/step - loss: 0.3301 - accuracy: 0.8747\n"
          ]
        }
      ]
    },
    {
      "cell_type": "code",
      "source": [
        "pred = model.predict(test_x)\n",
        "test_pred = np.argmax(pred, axis = 1)\n",
        "confusion_matrix = tf.math.confusion_matrix(labels= test_y, predictions=test_pred)\n",
        "print(confusion_matrix)"
      ],
      "metadata": {
        "colab": {
          "base_uri": "https://localhost:8080/"
        },
        "id": "7SRYitAGHx87",
        "outputId": "9131a205-506b-44c2-dab0-3dc549275595"
      },
      "execution_count": 59,
      "outputs": [
        {
          "output_type": "stream",
          "name": "stdout",
          "text": [
            "47/47 [==============================] - 0s 2ms/step\n",
            "tf.Tensor(\n",
            "[[1206    0]\n",
            " [ 294    0]], shape=(2, 2), dtype=int32)\n"
          ]
        }
      ]
    },
    {
      "cell_type": "code",
      "source": [
        "fitModel = model.fit(train_x, train_y, epochs = 15, validation_split = 0.3)\n",
        "plt.plot(fitModel.history['accuracy'])\n",
        "plt.plot(fitModel.history['val_accuracy'])\n",
        "plt.legend(['Training accuracy', 'Validation accuracy'])\n",
        "plt.title('Training and Validation Accuracy')\n",
        "plt.xlabel('Epoch Number')\n",
        "plt.ylabel('Accuracy')\n"
      ],
      "metadata": {
        "colab": {
          "base_uri": "https://localhost:8080/",
          "height": 833
        },
        "id": "BIcoPmbTIMIP",
        "outputId": "eb0d90d1-7cf1-4d7f-ed02-4e163074047f"
      },
      "execution_count": 62,
      "outputs": [
        {
          "output_type": "stream",
          "name": "stdout",
          "text": [
            "Epoch 1/15\n",
            "77/77 [==============================] - 0s 5ms/step - loss: 0.3991 - accuracy: 0.8388 - val_loss: 0.5071 - val_accuracy: 0.8124\n",
            "Epoch 2/15\n",
            "77/77 [==============================] - 0s 4ms/step - loss: 0.4099 - accuracy: 0.8433 - val_loss: 0.2936 - val_accuracy: 0.8752\n",
            "Epoch 3/15\n",
            "77/77 [==============================] - 0s 4ms/step - loss: 0.3754 - accuracy: 0.8429 - val_loss: 0.3400 - val_accuracy: 0.8667\n",
            "Epoch 4/15\n",
            "77/77 [==============================] - 0s 4ms/step - loss: 0.3427 - accuracy: 0.8457 - val_loss: 0.2939 - val_accuracy: 0.8800\n",
            "Epoch 5/15\n",
            "77/77 [==============================] - 0s 4ms/step - loss: 0.3258 - accuracy: 0.8584 - val_loss: 0.3006 - val_accuracy: 0.8638\n",
            "Epoch 6/15\n",
            "77/77 [==============================] - 0s 4ms/step - loss: 0.3299 - accuracy: 0.8531 - val_loss: 0.2857 - val_accuracy: 0.8876\n",
            "Epoch 7/15\n",
            "77/77 [==============================] - 0s 4ms/step - loss: 0.3940 - accuracy: 0.8294 - val_loss: 0.3636 - val_accuracy: 0.8476\n",
            "Epoch 8/15\n",
            "77/77 [==============================] - 0s 4ms/step - loss: 0.3498 - accuracy: 0.8437 - val_loss: 0.3028 - val_accuracy: 0.8648\n",
            "Epoch 9/15\n",
            "77/77 [==============================] - 0s 4ms/step - loss: 0.3496 - accuracy: 0.8363 - val_loss: 0.3402 - val_accuracy: 0.8438\n",
            "Epoch 10/15\n",
            "77/77 [==============================] - 0s 4ms/step - loss: 0.3450 - accuracy: 0.8502 - val_loss: 0.3957 - val_accuracy: 0.8524\n",
            "Epoch 11/15\n",
            "77/77 [==============================] - 0s 4ms/step - loss: 0.3711 - accuracy: 0.8449 - val_loss: 0.3033 - val_accuracy: 0.8324\n",
            "Epoch 12/15\n",
            "77/77 [==============================] - 0s 4ms/step - loss: 0.3745 - accuracy: 0.8363 - val_loss: 0.3210 - val_accuracy: 0.8600\n",
            "Epoch 13/15\n",
            "77/77 [==============================] - 0s 4ms/step - loss: 0.3276 - accuracy: 0.8461 - val_loss: 0.3338 - val_accuracy: 0.8562\n",
            "Epoch 14/15\n",
            "77/77 [==============================] - 0s 4ms/step - loss: 0.3192 - accuracy: 0.8571 - val_loss: 0.3165 - val_accuracy: 0.8695\n",
            "Epoch 15/15\n",
            "77/77 [==============================] - 0s 4ms/step - loss: 0.3485 - accuracy: 0.8445 - val_loss: 0.2900 - val_accuracy: 0.8771\n"
          ]
        },
        {
          "output_type": "execute_result",
          "data": {
            "text/plain": [
              "Text(0, 0.5, 'Accuracy')"
            ]
          },
          "metadata": {},
          "execution_count": 62
        },
        {
          "output_type": "display_data",
          "data": {
            "text/plain": [
              "<Figure size 432x288 with 1 Axes>"
            ],
            "image/png": "[encoded data removed]"
          },
          "metadata": {
            "needs_background": "light"
          }
        }
      ]
    },
    {
      "cell_type": "code",
      "source": [
        "plt.plot(fitModel.history['loss'])\n",
        "plt.plot(fitModel.history['val_loss'])\n",
        "plt.xlabel('Epoch Number')\n",
        "plt.ylabel('Loss')\n",
        "plt.legend(['Training loss', 'Validation loss'])\n",
        "plt.title('Training and Validation Loss')\n"
      ],
      "metadata": {
        "colab": {
          "base_uri": "https://localhost:8080/",
          "height": 312
        },
        "id": "DyMnyTy8JWXO",
        "outputId": "1906c34e-4fe9-46f6-88b6-d655250bba26"
      },
      "execution_count": 77,
      "outputs": [
        {
          "output_type": "execute_result",
          "data": {
            "text/plain": [
              "Text(0.5, 1.0, 'Training and Validation Loss')"
            ]
          },
          "metadata": {},
          "execution_count": 77
        },
        {
          "output_type": "display_data",
          "data": {
            "text/plain": [
              "<Figure size 432x288 with 1 Axes>"
            ],
            "image/png": "[encoded data removed]"
          },
          "metadata": {
            "needs_background": "light"
          }
        }
      ]
    },
    {
      "cell_type": "code",
      "source": [
        "test_predict = model.predict(test_x)\n",
        "test_predict_labels = np.argmax(test_predict, axis = 1)\n",
        "confusion_matrix = tf.math.confusion_matrix(labels = test_y, predictions = test_predict_labels)\n",
        "print('confusion Matrix\\n', confusion_matrix)\n"
      ],
      "metadata": {
        "colab": {
          "base_uri": "https://localhost:8080/"
        },
        "id": "7D2g9jXBIlcw",
        "outputId": "fb916c40-1a39-4271-d592-f05c1d07fe72"
      },
      "execution_count": 78,
      "outputs": [
        {
          "output_type": "stream",
          "name": "stdout",
          "text": [
            "47/47 [==============================] - 0s 2ms/step\n",
            "confusion Matrix\n",
            " tf.Tensor(\n",
            "[[1206    0]\n",
            " [ 294    0]], shape=(2, 2), dtype=int32)\n"
          ]
        }
      ]
    },
    {
      "cell_type": "markdown",
      "source": [
        "c) The model is four layer with two hidden layers, this indicates that the model has **86% Accuracy**"
      ],
      "metadata": {
        "id": "JHpItpWbmkH7"
      }
    },
    {
      "cell_type": "code",
      "source": [
        "model_1 = tf.keras.Sequential()\n",
        "model_1.add(Dense(16, activation='relu',input_shape=(5, ))) \n",
        "model_1.add(Dense(32, activation='softplus'))\n",
        "model_1.add(Dense(32, activation='softplus'))\n",
        "model_1.add(Dense(32, activation='softplus'))\n",
        "model_1.add(Dense(1, activation='sigmoid')) \n",
        "\n",
        "model_1.summary()"
      ],
      "metadata": {
        "colab": {
          "base_uri": "https://localhost:8080/"
        },
        "id": "gC1vVconKFEv",
        "outputId": "2e5712c4-13df-4eea-d75a-aa4b3a191461"
      },
      "execution_count": 87,
      "outputs": [
        {
          "output_type": "stream",
          "name": "stdout",
          "text": [
            "Model: \"sequential_8\"\n",
            "_________________________________________________________________\n",
            " Layer (type)                Output Shape              Param #   \n",
            "=================================================================\n",
            " dense_35 (Dense)            (None, 16)                96        \n",
            "                                                                 \n",
            " dense_36 (Dense)            (None, 32)                544       \n",
            "                                                                 \n",
            " dense_37 (Dense)            (None, 32)                1056      \n",
            "                                                                 \n",
            " dense_38 (Dense)            (None, 32)                1056      \n",
            "                                                                 \n",
            " dense_39 (Dense)            (None, 1)                 33        \n",
            "                                                                 \n",
            "=================================================================\n",
            "Total params: 2,785\n",
            "Trainable params: 2,785\n",
            "Non-trainable params: 0\n",
            "_________________________________________________________________\n"
          ]
        }
      ]
    },
    {
      "cell_type": "code",
      "source": [
        "lossfunction = tf.keras.losses.BinaryCrossentropy()\n",
        "model_1.compile(optimizer= 'adam', loss= lossfunction, metrics=['accuracy'])"
      ],
      "metadata": {
        "id": "Al1yJeVrKNqh"
      },
      "execution_count": 88,
      "outputs": []
    },
    {
      "cell_type": "code",
      "source": [
        "fitmodel = model2.fit(train_x, train_y, epochs=10, validation_split=0.3)"
      ],
      "metadata": {
        "colab": {
          "base_uri": "https://localhost:8080/"
        },
        "id": "QKZbyCMlKTyI",
        "outputId": "eb49b502-1d5b-4a04-9258-f717a02ff4eb"
      },
      "execution_count": 89,
      "outputs": [
        {
          "output_type": "stream",
          "name": "stdout",
          "text": [
            "Epoch 1/10\n",
            "77/77 [==============================] - 0s 5ms/step - loss: 0.3243 - accuracy: 0.8604 - val_loss: 0.3049 - val_accuracy: 0.8762\n",
            "Epoch 2/10\n",
            "77/77 [==============================] - 0s 4ms/step - loss: 0.3147 - accuracy: 0.8588 - val_loss: 0.3122 - val_accuracy: 0.8714\n",
            "Epoch 3/10\n",
            "77/77 [==============================] - 0s 4ms/step - loss: 0.3425 - accuracy: 0.8473 - val_loss: 0.2987 - val_accuracy: 0.8657\n",
            "Epoch 4/10\n",
            "77/77 [==============================] - 0s 4ms/step - loss: 0.3222 - accuracy: 0.8555 - val_loss: 0.3392 - val_accuracy: 0.8600\n",
            "Epoch 5/10\n",
            "77/77 [==============================] - 0s 4ms/step - loss: 0.3107 - accuracy: 0.8551 - val_loss: 0.2913 - val_accuracy: 0.8333\n",
            "Epoch 6/10\n",
            "77/77 [==============================] - 0s 4ms/step - loss: 0.3252 - accuracy: 0.8486 - val_loss: 0.4796 - val_accuracy: 0.7181\n",
            "Epoch 7/10\n",
            "77/77 [==============================] - 0s 4ms/step - loss: 0.3334 - accuracy: 0.8433 - val_loss: 0.2901 - val_accuracy: 0.8590\n",
            "Epoch 8/10\n",
            "77/77 [==============================] - 0s 4ms/step - loss: 0.3055 - accuracy: 0.8731 - val_loss: 0.2868 - val_accuracy: 0.9067\n",
            "Epoch 9/10\n",
            "77/77 [==============================] - 0s 4ms/step - loss: 0.3284 - accuracy: 0.8510 - val_loss: 0.3047 - val_accuracy: 0.8438\n",
            "Epoch 10/10\n",
            "77/77 [==============================] - 0s 4ms/step - loss: 0.3077 - accuracy: 0.8633 - val_loss: 0.2778 - val_accuracy: 0.8705\n"
          ]
        }
      ]
    },
    {
      "cell_type": "code",
      "source": [
        "training_loss, training_acc = model2.evaluate(train_x, train_y)\n",
        "testing_loss, testing_acc = model2.evaluate(test_x, test_y)"
      ],
      "metadata": {
        "colab": {
          "base_uri": "https://localhost:8080/"
        },
        "id": "k4TpWusBKUCi",
        "outputId": "a1b17b7e-58bc-460c-eb10-f96cadd20af3"
      },
      "execution_count": 90,
      "outputs": [
        {
          "output_type": "stream",
          "name": "stdout",
          "text": [
            "110/110 [==============================] - 0s 2ms/step - loss: 0.2924 - accuracy: 0.8620\n",
            "47/47 [==============================] - 0s 2ms/step - loss: 0.2819 - accuracy: 0.8853\n"
          ]
        }
      ]
    },
    {
      "cell_type": "code",
      "source": [
        "pred = model2.predict(test_x)\n",
        "test_pred = np.argmax(pred, axis = 1)\n",
        "confusion_matrix = tf.math.confusion_matrix(labels= test_y, predictions=test_pred)\n",
        "print(confusion_matrix)"
      ],
      "metadata": {
        "colab": {
          "base_uri": "https://localhost:8080/"
        },
        "id": "3CdHuk4nKUPP",
        "outputId": "1d1ba72d-3df4-4710-8813-64e48efc1d65"
      },
      "execution_count": 91,
      "outputs": [
        {
          "output_type": "stream",
          "name": "stdout",
          "text": [
            "47/47 [==============================] - 0s 2ms/step\n",
            "tf.Tensor(\n",
            "[[1206    0]\n",
            " [ 294    0]], shape=(2, 2), dtype=int32)\n"
          ]
        }
      ]
    },
    {
      "cell_type": "code",
      "source": [
        "fitModel = model_1.fit(train_x, train_y, epochs = 15, validation_split = 0.3)\n",
        "plt.plot(fitModel.history['accuracy'])\n",
        "plt.plot(fitModel.history['val_accuracy'])\n",
        "plt.legend(['Training accuracy', 'Validation accuracy'])\n",
        "plt.title('Trianing and Validation Accuracies')\n",
        "plt.xlabel('Epoch Number')\n",
        "plt.ylabel('Accuracy')"
      ],
      "metadata": {
        "colab": {
          "base_uri": "https://localhost:8080/",
          "height": 833
        },
        "id": "VXnEMX-pKUTN",
        "outputId": "02c46d3a-083e-43ae-ff0b-5831656e96fd"
      },
      "execution_count": 92,
      "outputs": [
        {
          "output_type": "stream",
          "name": "stdout",
          "text": [
            "Epoch 1/15\n",
            "77/77 [==============================] - 2s 20ms/step - loss: 1.6369 - accuracy: 0.7139 - val_loss: 0.5816 - val_accuracy: 0.8248\n",
            "Epoch 2/15\n",
            "77/77 [==============================] - 1s 11ms/step - loss: 0.5366 - accuracy: 0.7878 - val_loss: 0.4728 - val_accuracy: 0.8210\n",
            "Epoch 3/15\n",
            "77/77 [==============================] - 1s 7ms/step - loss: 0.5613 - accuracy: 0.7865 - val_loss: 0.4240 - val_accuracy: 0.8314\n",
            "Epoch 4/15\n",
            "77/77 [==============================] - 0s 4ms/step - loss: 0.5220 - accuracy: 0.7894 - val_loss: 0.4343 - val_accuracy: 0.8343\n",
            "Epoch 5/15\n",
            "77/77 [==============================] - 0s 4ms/step - loss: 0.5034 - accuracy: 0.7984 - val_loss: 0.4781 - val_accuracy: 0.7610\n",
            "Epoch 6/15\n",
            "77/77 [==============================] - 0s 4ms/step - loss: 0.4870 - accuracy: 0.7947 - val_loss: 0.3892 - val_accuracy: 0.8305\n",
            "Epoch 7/15\n",
            "77/77 [==============================] - 0s 4ms/step - loss: 0.4578 - accuracy: 0.8045 - val_loss: 0.6208 - val_accuracy: 0.7438\n",
            "Epoch 8/15\n",
            "77/77 [==============================] - 0s 4ms/step - loss: 0.4521 - accuracy: 0.8082 - val_loss: 0.3947 - val_accuracy: 0.8495\n",
            "Epoch 9/15\n",
            "77/77 [==============================] - 0s 4ms/step - loss: 0.4799 - accuracy: 0.8073 - val_loss: 0.3866 - val_accuracy: 0.8486\n",
            "Epoch 10/15\n",
            "77/77 [==============================] - 0s 4ms/step - loss: 0.4920 - accuracy: 0.7882 - val_loss: 0.4727 - val_accuracy: 0.7362\n",
            "Epoch 11/15\n",
            "77/77 [==============================] - 0s 4ms/step - loss: 0.4429 - accuracy: 0.8102 - val_loss: 0.4522 - val_accuracy: 0.8867\n",
            "Epoch 12/15\n",
            "77/77 [==============================] - 0s 4ms/step - loss: 0.4119 - accuracy: 0.8204 - val_loss: 0.3874 - val_accuracy: 0.7800\n",
            "Epoch 13/15\n",
            "77/77 [==============================] - 0s 4ms/step - loss: 0.3995 - accuracy: 0.8110 - val_loss: 0.4147 - val_accuracy: 0.8295\n",
            "Epoch 14/15\n",
            "77/77 [==============================] - 0s 4ms/step - loss: 0.4956 - accuracy: 0.7910 - val_loss: 0.3759 - val_accuracy: 0.8333\n",
            "Epoch 15/15\n",
            "77/77 [==============================] - 0s 4ms/step - loss: 0.4285 - accuracy: 0.8127 - val_loss: 0.4755 - val_accuracy: 0.7743\n"
          ]
        },
        {
          "output_type": "execute_result",
          "data": {
            "text/plain": [
              "Text(0, 0.5, 'Accuracy')"
            ]
          },
          "metadata": {},
          "execution_count": 92
        },
        {
          "output_type": "display_data",
          "data": {
            "text/plain": [
              "<Figure size 432x288 with 1 Axes>"
            ],
            "image/png": "[encoded data removed]"
          },
          "metadata": {
            "needs_background": "light"
          }
        }
      ]
    },
    {
      "cell_type": "code",
      "source": [
        "plt.plot(fitModel.history['loss'])\n",
        "plt.plot(fitModel.history['val_loss'])\n",
        "plt.legend(['Training loss', 'Validation loss'])\n",
        "plt.title('Trianing and Validation Losses')\n",
        "plt.xlabel('EpochNumbr')\n",
        "plt.ylabel('Loss')"
      ],
      "metadata": {
        "colab": {
          "base_uri": "https://localhost:8080/",
          "height": 312
        },
        "id": "ORoFxcDEMJ4t",
        "outputId": "7c288e75-09f2-40e7-85c1-0155a8e8d5da"
      },
      "execution_count": 93,
      "outputs": [
        {
          "output_type": "execute_result",
          "data": {
            "text/plain": [
              "Text(0, 0.5, 'Loss')"
            ]
          },
          "metadata": {},
          "execution_count": 93
        },
        {
          "output_type": "display_data",
          "data": {
            "text/plain": [
              "<Figure size 432x288 with 1 Axes>"
            ],
            "image/png": "[encoded data removed]"
          },
          "metadata": {
            "needs_background": "light"
          }
        }
      ]
    }
  ]
}